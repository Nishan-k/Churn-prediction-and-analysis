{
 "cells": [
  {
   "cell_type": "code",
   "execution_count": null,
   "id": "f1f971f9",
   "metadata": {},
   "outputs": [],
   "source": [
    "import pandas as pd\n",
    "from sklearn.pipeline import Pipeline\n",
    "from sklearn.base import BaseEstimator, TransformerMixin\n",
    "from sklearn.utils import resample\n",
    "from sklearn.preprocessing import OneHotEncoder\n",
    "from sklearn.compose import ColumnTransformer\n",
    "from sklearn.ensemble import ExtraTreesClassifier\n",
    "\n",
    "\n",
    "class Oversampler(BaseEstimator, TransformerMixin):\n",
    "    def fit(self, X, y=None):\n",
    "        return self\n",
    "\n",
    "    def transform(self, X, y=None):\n",
    "        majority_class = X[X['churn'] == 0]\n",
    "        minority_class = X[X['churn'] == 1]\n",
    "\n",
    "        minority_oversampled = resample(\n",
    "            minority_class, replace=True, n_samples=len(majority_class), random_state=42\n",
    "        )\n",
    "\n",
    "        df_balanced = pd.concat([majority_class, minority_oversampled])\n",
    "        df_balanced = df_balanced.sample(frac=1, random_state=42).reset_index(drop=True)\n",
    "        return df_balanced.drop(columns=['churn']), df_balanced['churn']\n",
    "\n",
    "\n"
   ]
  },
  {
   "cell_type": "code",
   "execution_count": null,
   "id": "7f723f50",
   "metadata": {},
   "outputs": [],
   "source": [
    "categorical_features = ['col1', 'col2'] "
   ]
  },
  {
   "cell_type": "code",
   "execution_count": null,
   "id": "5ee0c9a5",
   "metadata": {},
   "outputs": [],
   "source": [
    "preprocessor = ColumnTransformer(\n",
    "    transformers=[\n",
    "        ('cat', OneHotEncoder(handle_unknown='ignore'), categorical_features)\n",
    "    ],\n",
    "    remainder='passthrough'\n",
    ")\n",
    "\n",
    "\n",
    "best_params = {\n",
    "    'bootstrap': False,\n",
    "    'ccp_alpha': 0.0,\n",
    "    'class_weight': 'balanced',\n",
    "    'criterion': 'gini',\n",
    "    'max_depth': 20,\n",
    "    'max_features': 'log2',\n",
    "    'max_leaf_nodes': None,\n",
    "    'max_samples': None,\n",
    "    'min_impurity_decrease': 0.0,\n",
    "    'min_samples_leaf': 10,\n",
    "    'min_samples_split': 15,\n",
    "    'min_weight_fraction_leaf': 0.0,\n",
    "    'n_estimators': 250,\n",
    "    'n_jobs': None,\n",
    "    'oob_score': False,\n",
    "    'random_state': 42,\n",
    "    'verbose': 0,\n",
    "    'warm_start': False\n",
    "}\n",
    "\n",
    "\n",
    "pipeline = Pipeline([\n",
    "    ('oversampler', Oversampler()),\n",
    "    ('preprocessor', preprocessor),\n",
    "    ('classifier', ExtraTreesClassifier(**best_params))\n",
    "])"
   ]
  },
  {
   "cell_type": "code",
   "execution_count": null,
   "id": "9950bfd1",
   "metadata": {},
   "outputs": [],
   "source": [
    "pipeline.fit(df, df['churn'])\n",
    "\n",
    "\n",
    "preds = pipeline.predict(df)"
   ]
  }
 ],
 "metadata": {
  "kernelspec": {
   "display_name": "Python (myenv)",
   "language": "python",
   "name": "churn_venv"
  },
  "language_info": {
   "codemirror_mode": {
    "name": "ipython",
    "version": 3
   },
   "file_extension": ".py",
   "mimetype": "text/x-python",
   "name": "python",
   "nbconvert_exporter": "python",
   "pygments_lexer": "ipython3",
   "version": "3.10.4"
  }
 },
 "nbformat": 4,
 "nbformat_minor": 5
}
