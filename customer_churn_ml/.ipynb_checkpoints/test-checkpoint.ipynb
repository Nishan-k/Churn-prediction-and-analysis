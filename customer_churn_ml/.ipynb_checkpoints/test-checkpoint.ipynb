{
 "cells": [
  {
   "cell_type": "code",
   "execution_count": 49,
   "id": "25dec33f",
   "metadata": {},
   "outputs": [],
   "source": [
    "import joblib\n",
    "from data_loader import load_data\n",
    "import pandas as pd\n",
    "import numpy as np"
   ]
  },
  {
   "cell_type": "code",
   "execution_count": 3,
   "id": "42021e9e",
   "metadata": {},
   "outputs": [],
   "source": [
    "data = load_data()"
   ]
  },
  {
   "cell_type": "code",
   "execution_count": 51,
   "id": "eae336a8",
   "metadata": {},
   "outputs": [],
   "source": [
    "test = data[:20]"
   ]
  },
  {
   "cell_type": "code",
   "execution_count": 52,
   "id": "e57adee0",
   "metadata": {},
   "outputs": [],
   "source": [
    "test = test.drop(columns=['customer_id'])"
   ]
  },
  {
   "cell_type": "code",
   "execution_count": 53,
   "id": "f9395d62",
   "metadata": {},
   "outputs": [],
   "source": [
    "X = test.iloc[:, 0:-1]"
   ]
  },
  {
   "cell_type": "code",
   "execution_count": 54,
   "id": "2a4264de",
   "metadata": {},
   "outputs": [],
   "source": [
    "y = test.iloc[:, -1].map({'Yes':1, 'No':0}).values"
   ]
  },
  {
   "cell_type": "code",
   "execution_count": 55,
   "id": "64d20f0f",
   "metadata": {},
   "outputs": [],
   "source": [
    "X['monthly_charges'] = X['monthly_charges'].astype('float64')\n",
    "X['total_charges'] = X['total_charges'].astype('float64')\n",
    "X['senior_citizen'] = X['senior_citizen'].astype('object')"
   ]
  },
  {
   "cell_type": "code",
   "execution_count": 56,
   "id": "d01ab980",
   "metadata": {},
   "outputs": [],
   "source": [
    "model = joblib.load(\"churn_clf_model.pkl\")"
   ]
  },
  {
   "cell_type": "code",
   "execution_count": 57,
   "id": "8ca31e14",
   "metadata": {},
   "outputs": [],
   "source": [
    "prediction = model.predict(X)"
   ]
  },
  {
   "cell_type": "code",
   "execution_count": 58,
   "id": "be086daa",
   "metadata": {},
   "outputs": [
    {
     "data": {
      "text/plain": [
       "array([1, 0, 1, 0, 1, 1, 1, 0, 1, 0, 0, 0, 0, 1, 1, 0, 0, 0, 1, 1],\n",
       "      dtype=int64)"
      ]
     },
     "execution_count": 58,
     "metadata": {},
     "output_type": "execute_result"
    }
   ],
   "source": [
    "prediction"
   ]
  },
  {
   "cell_type": "code",
   "execution_count": 59,
   "id": "0103f526",
   "metadata": {},
   "outputs": [
    {
     "data": {
      "text/plain": [
       "array([0, 0, 1, 0, 1, 1, 0, 0, 1, 0, 0, 0, 0, 1, 0, 0, 0, 0, 1, 0],\n",
       "      dtype=int64)"
      ]
     },
     "execution_count": 59,
     "metadata": {},
     "output_type": "execute_result"
    }
   ],
   "source": [
    "y"
   ]
  },
  {
   "cell_type": "code",
   "execution_count": 60,
   "id": "a0417b07",
   "metadata": {},
   "outputs": [
    {
     "data": {
      "text/plain": [
       "array([[1, 0],\n",
       "       [0, 0],\n",
       "       [1, 1],\n",
       "       [0, 0],\n",
       "       [1, 1],\n",
       "       [1, 1],\n",
       "       [1, 0],\n",
       "       [0, 0],\n",
       "       [1, 1],\n",
       "       [0, 0],\n",
       "       [0, 0],\n",
       "       [0, 0],\n",
       "       [0, 0],\n",
       "       [1, 1],\n",
       "       [1, 0],\n",
       "       [0, 0],\n",
       "       [0, 0],\n",
       "       [0, 0],\n",
       "       [1, 1],\n",
       "       [1, 0]], dtype=int64)"
      ]
     },
     "execution_count": 60,
     "metadata": {},
     "output_type": "execute_result"
    }
   ],
   "source": [
    "np.column_stack((prediction, y))"
   ]
  },
  {
   "cell_type": "code",
   "execution_count": null,
   "id": "0d80ba02",
   "metadata": {},
   "outputs": [],
   "source": []
  }
 ],
 "metadata": {
  "kernelspec": {
   "display_name": "Python (myenv)",
   "language": "python",
   "name": "churn_venv"
  },
  "language_info": {
   "codemirror_mode": {
    "name": "ipython",
    "version": 3
   },
   "file_extension": ".py",
   "mimetype": "text/x-python",
   "name": "python",
   "nbconvert_exporter": "python",
   "pygments_lexer": "ipython3",
   "version": "3.10.4"
  }
 },
 "nbformat": 4,
 "nbformat_minor": 5
}
