{
 "cells": [
  {
   "cell_type": "markdown",
   "id": "b9f8cf5b",
   "metadata": {},
   "source": [
    "https://chat.deepseek.com/a/chat/s/b693a3a0-dd59-4cc2-b6b7-67484f101d65"
   ]
  },
  {
   "cell_type": "code",
   "execution_count": 1,
   "id": "b8855ac3",
   "metadata": {},
   "outputs": [],
   "source": [
    "from data_loader import load_data\n",
    "import pandas as pd\n",
    "import numpy as np\n",
    "from sklearn.model_selection import train_test_split\n",
    "import matplotlib.pyplot as plt\n",
    "import seaborn as sns\n",
    "from scipy.stats import chi2_contingency\n",
    "import warnings\n",
    "from imblearn.under_sampling import RandomUnderSampler\n",
    "from imblearn.over_sampling import RandomOverSampler\n",
    "from sklearn.preprocessing import LabelEncoder, OneHotEncoder, StandardScaler\n",
    "from statsmodels.stats.outliers_influence import variance_inflation_factor\n",
    "from sklearn.compose import ColumnTransformer\n",
    "from sklearn.model_selection import KFold, cross_val_score\n",
    "from sklearn.linear_model import LogisticRegression\n",
    "from sklearn.tree import DecisionTreeClassifier\n",
    "from sklearn.ensemble import RandomForestClassifier\n",
    "from sklearn.neighbors import KNeighborsClassifier\n",
    "from sklearn.discriminant_analysis import LinearDiscriminantAnalysis\n",
    "from sklearn.naive_bayes import GaussianNB\n",
    "from sklearn.svm import SVC\n",
    "\n",
    "warnings.filterwarnings(action='ignore')"
   ]
  },
  {
   "cell_type": "markdown",
   "id": "8cca0b8b",
   "metadata": {},
   "source": [
    "### 1. Load the data from data `data_loader`:"
   ]
  },
  {
   "cell_type": "code",
   "execution_count": 2,
   "id": "1c2cfb6f",
   "metadata": {},
   "outputs": [
    {
     "data": {
      "text/html": [
       "<div>\n",
       "<style scoped>\n",
       "    .dataframe tbody tr th:only-of-type {\n",
       "        vertical-align: middle;\n",
       "    }\n",
       "\n",
       "    .dataframe tbody tr th {\n",
       "        vertical-align: top;\n",
       "    }\n",
       "\n",
       "    .dataframe thead th {\n",
       "        text-align: right;\n",
       "    }\n",
       "</style>\n",
       "<table border=\"1\" class=\"dataframe\">\n",
       "  <thead>\n",
       "    <tr style=\"text-align: right;\">\n",
       "      <th></th>\n",
       "      <th>customer_id</th>\n",
       "      <th>gender</th>\n",
       "      <th>senior_citizen</th>\n",
       "      <th>partner</th>\n",
       "      <th>dependents</th>\n",
       "      <th>tenure</th>\n",
       "      <th>phone_service</th>\n",
       "      <th>multiple_lines</th>\n",
       "      <th>internet_service</th>\n",
       "      <th>online_security</th>\n",
       "      <th>...</th>\n",
       "      <th>device_protection</th>\n",
       "      <th>tech_support</th>\n",
       "      <th>streaming_tv</th>\n",
       "      <th>streaming_movies</th>\n",
       "      <th>contract</th>\n",
       "      <th>paperless_billing</th>\n",
       "      <th>payment_method</th>\n",
       "      <th>monthly_charges</th>\n",
       "      <th>total_charges</th>\n",
       "      <th>churn</th>\n",
       "    </tr>\n",
       "  </thead>\n",
       "  <tbody>\n",
       "    <tr>\n",
       "      <th>0</th>\n",
       "      <td>7590-VHVEG</td>\n",
       "      <td>Female</td>\n",
       "      <td>0</td>\n",
       "      <td>Yes</td>\n",
       "      <td>No</td>\n",
       "      <td>1</td>\n",
       "      <td>No</td>\n",
       "      <td>No phone service</td>\n",
       "      <td>DSL</td>\n",
       "      <td>No</td>\n",
       "      <td>...</td>\n",
       "      <td>No</td>\n",
       "      <td>No</td>\n",
       "      <td>No</td>\n",
       "      <td>No</td>\n",
       "      <td>Month-to-month</td>\n",
       "      <td>Yes</td>\n",
       "      <td>Electronic check</td>\n",
       "      <td>29.85</td>\n",
       "      <td>29.85</td>\n",
       "      <td>No</td>\n",
       "    </tr>\n",
       "    <tr>\n",
       "      <th>1</th>\n",
       "      <td>5575-GNVDE</td>\n",
       "      <td>Male</td>\n",
       "      <td>0</td>\n",
       "      <td>No</td>\n",
       "      <td>No</td>\n",
       "      <td>34</td>\n",
       "      <td>Yes</td>\n",
       "      <td>No</td>\n",
       "      <td>DSL</td>\n",
       "      <td>Yes</td>\n",
       "      <td>...</td>\n",
       "      <td>Yes</td>\n",
       "      <td>No</td>\n",
       "      <td>No</td>\n",
       "      <td>No</td>\n",
       "      <td>One year</td>\n",
       "      <td>No</td>\n",
       "      <td>Mailed check</td>\n",
       "      <td>56.95</td>\n",
       "      <td>1889.5</td>\n",
       "      <td>No</td>\n",
       "    </tr>\n",
       "    <tr>\n",
       "      <th>2</th>\n",
       "      <td>3668-QPYBK</td>\n",
       "      <td>Male</td>\n",
       "      <td>0</td>\n",
       "      <td>No</td>\n",
       "      <td>No</td>\n",
       "      <td>2</td>\n",
       "      <td>Yes</td>\n",
       "      <td>No</td>\n",
       "      <td>DSL</td>\n",
       "      <td>Yes</td>\n",
       "      <td>...</td>\n",
       "      <td>No</td>\n",
       "      <td>No</td>\n",
       "      <td>No</td>\n",
       "      <td>No</td>\n",
       "      <td>Month-to-month</td>\n",
       "      <td>Yes</td>\n",
       "      <td>Mailed check</td>\n",
       "      <td>53.85</td>\n",
       "      <td>108.15</td>\n",
       "      <td>Yes</td>\n",
       "    </tr>\n",
       "  </tbody>\n",
       "</table>\n",
       "<p>3 rows × 21 columns</p>\n",
       "</div>"
      ],
      "text/plain": [
       "  customer_id  gender  senior_citizen partner dependents  tenure  \\\n",
       "0  7590-VHVEG  Female               0     Yes         No       1   \n",
       "1  5575-GNVDE    Male               0      No         No      34   \n",
       "2  3668-QPYBK    Male               0      No         No       2   \n",
       "\n",
       "  phone_service    multiple_lines internet_service online_security  ...  \\\n",
       "0            No  No phone service              DSL              No  ...   \n",
       "1           Yes                No              DSL             Yes  ...   \n",
       "2           Yes                No              DSL             Yes  ...   \n",
       "\n",
       "  device_protection tech_support streaming_tv streaming_movies  \\\n",
       "0                No           No           No               No   \n",
       "1               Yes           No           No               No   \n",
       "2                No           No           No               No   \n",
       "\n",
       "         contract paperless_billing    payment_method monthly_charges  \\\n",
       "0  Month-to-month               Yes  Electronic check           29.85   \n",
       "1        One year                No      Mailed check           56.95   \n",
       "2  Month-to-month               Yes      Mailed check           53.85   \n",
       "\n",
       "  total_charges churn  \n",
       "0         29.85    No  \n",
       "1        1889.5    No  \n",
       "2        108.15   Yes  \n",
       "\n",
       "[3 rows x 21 columns]"
      ]
     },
     "execution_count": 2,
     "metadata": {},
     "output_type": "execute_result"
    }
   ],
   "source": [
    "df = load_data()\n",
    "df.head(3)"
   ]
  },
  {
   "cell_type": "markdown",
   "id": "cc133dba",
   "metadata": {},
   "source": [
    "### 2. EDA:"
   ]
  },
  {
   "cell_type": "code",
   "execution_count": 3,
   "id": "a5d4ad40",
   "metadata": {},
   "outputs": [
    {
     "name": "stdout",
     "output_type": "stream",
     "text": [
      "There are total of 7043 samples and 21 features.\n"
     ]
    }
   ],
   "source": [
    "print(f\"There are total of {df.shape[0]} samples and {df.shape[1]} features.\")"
   ]
  },
  {
   "cell_type": "markdown",
   "id": "7105a82d",
   "metadata": {},
   "source": [
    "`customer_id` won't be relevant for us, so for now we will drop it."
   ]
  },
  {
   "cell_type": "code",
   "execution_count": 4,
   "id": "b4fa4243",
   "metadata": {},
   "outputs": [],
   "source": [
    "df = df.drop(columns=['customer_id'])"
   ]
  },
  {
   "cell_type": "code",
   "execution_count": 5,
   "id": "37cb4575",
   "metadata": {},
   "outputs": [
    {
     "data": {
      "text/plain": [
       "(7043, 20)"
      ]
     },
     "execution_count": 5,
     "metadata": {},
     "output_type": "execute_result"
    }
   ],
   "source": [
    "df.shape"
   ]
  },
  {
   "cell_type": "code",
   "execution_count": 6,
   "id": "b9dba9a9",
   "metadata": {},
   "outputs": [
    {
     "data": {
      "text/plain": [
       "gender               0\n",
       "senior_citizen       0\n",
       "partner              0\n",
       "dependents           0\n",
       "tenure               0\n",
       "phone_service        0\n",
       "multiple_lines       0\n",
       "internet_service     0\n",
       "online_security      0\n",
       "online_backup        0\n",
       "device_protection    0\n",
       "tech_support         0\n",
       "streaming_tv         0\n",
       "streaming_movies     0\n",
       "contract             0\n",
       "paperless_billing    0\n",
       "payment_method       0\n",
       "monthly_charges      0\n",
       "total_charges        0\n",
       "churn                0\n",
       "dtype: int64"
      ]
     },
     "execution_count": 6,
     "metadata": {},
     "output_type": "execute_result"
    }
   ],
   "source": [
    "df.isna().sum()"
   ]
  },
  {
   "cell_type": "markdown",
   "id": "e2266013",
   "metadata": {},
   "source": [
    "We don't have any missing values."
   ]
  },
  {
   "cell_type": "code",
   "execution_count": 7,
   "id": "a33f1ad2",
   "metadata": {},
   "outputs": [
    {
     "name": "stdout",
     "output_type": "stream",
     "text": [
      "<class 'pandas.core.frame.DataFrame'>\n",
      "RangeIndex: 7043 entries, 0 to 7042\n",
      "Data columns (total 20 columns):\n",
      " #   Column             Non-Null Count  Dtype \n",
      "---  ------             --------------  ----- \n",
      " 0   gender             7043 non-null   object\n",
      " 1   senior_citizen     7043 non-null   int64 \n",
      " 2   partner            7043 non-null   object\n",
      " 3   dependents         7043 non-null   object\n",
      " 4   tenure             7043 non-null   int64 \n",
      " 5   phone_service      7043 non-null   object\n",
      " 6   multiple_lines     7043 non-null   object\n",
      " 7   internet_service   7043 non-null   object\n",
      " 8   online_security    7043 non-null   object\n",
      " 9   online_backup      7043 non-null   object\n",
      " 10  device_protection  7043 non-null   object\n",
      " 11  tech_support       7043 non-null   object\n",
      " 12  streaming_tv       7043 non-null   object\n",
      " 13  streaming_movies   7043 non-null   object\n",
      " 14  contract           7043 non-null   object\n",
      " 15  paperless_billing  7043 non-null   object\n",
      " 16  payment_method     7043 non-null   object\n",
      " 17  monthly_charges    7043 non-null   object\n",
      " 18  total_charges      7043 non-null   object\n",
      " 19  churn              7043 non-null   object\n",
      "dtypes: int64(2), object(18)\n",
      "memory usage: 1.1+ MB\n"
     ]
    }
   ],
   "source": [
    "df.info()"
   ]
  },
  {
   "cell_type": "markdown",
   "id": "9548325d",
   "metadata": {},
   "source": [
    "#### 2.1 Univariate Analysis:"
   ]
  },
  {
   "cell_type": "code",
   "execution_count": 8,
   "id": "806e9e40",
   "metadata": {},
   "outputs": [
    {
     "data": {
      "text/plain": [
       "churn\n",
       "No     5174\n",
       "Yes    1869\n",
       "Name: count, dtype: int64"
      ]
     },
     "execution_count": 8,
     "metadata": {},
     "output_type": "execute_result"
    }
   ],
   "source": [
    "df.value_counts('churn')"
   ]
  },
  {
   "cell_type": "code",
   "execution_count": 9,
   "id": "6ec55856",
   "metadata": {},
   "outputs": [
    {
     "data": {
      "image/png": "[encoded data removed]",
      "text/plain": [
       "<Figure size 1000x600 with 1 Axes>"
      ]
     },
     "metadata": {},
     "output_type": "display_data"
    }
   ],
   "source": [
    "plt.figure(figsize=(10, 6))\n",
    "sns.countplot(data=df, x='churn', hue='churn')\n",
    "plt.legend()  \n",
    "plt.show()"
   ]
  },
  {
   "cell_type": "markdown",
   "id": "cd3c2511",
   "metadata": {},
   "source": [
    "There is an imbalance in the dataset."
   ]
  },
  {
   "cell_type": "markdown",
   "id": "49f0c7ad",
   "metadata": {},
   "source": [
    "So, we will be using this dataset of 3 versions i.e.:\n",
    "1. The original format\n",
    "2. Undersampling (Bring down the data of high label count to low label coun)\n",
    "3. Oversampling (Increase the data of low label count to match the count of the data of the high label.)\n",
    "\n",
    "and then compare the accuracies and move forward accordingly."
   ]
  },
  {
   "cell_type": "code",
   "execution_count": 10,
   "id": "e66f33f2",
   "metadata": {},
   "outputs": [
    {
     "data": {
      "text/html": [
       "<div>\n",
       "<style scoped>\n",
       "    .dataframe tbody tr th:only-of-type {\n",
       "        vertical-align: middle;\n",
       "    }\n",
       "\n",
       "    .dataframe tbody tr th {\n",
       "        vertical-align: top;\n",
       "    }\n",
       "\n",
       "    .dataframe thead th {\n",
       "        text-align: right;\n",
       "    }\n",
       "</style>\n",
       "<table border=\"1\" class=\"dataframe\">\n",
       "  <thead>\n",
       "    <tr style=\"text-align: right;\">\n",
       "      <th></th>\n",
       "      <th>gender</th>\n",
       "      <th>senior_citizen</th>\n",
       "      <th>partner</th>\n",
       "      <th>dependents</th>\n",
       "      <th>tenure</th>\n",
       "      <th>phone_service</th>\n",
       "      <th>multiple_lines</th>\n",
       "      <th>internet_service</th>\n",
       "      <th>online_security</th>\n",
       "      <th>online_backup</th>\n",
       "      <th>device_protection</th>\n",
       "      <th>tech_support</th>\n",
       "      <th>streaming_tv</th>\n",
       "      <th>streaming_movies</th>\n",
       "      <th>contract</th>\n",
       "      <th>paperless_billing</th>\n",
       "      <th>payment_method</th>\n",
       "      <th>monthly_charges</th>\n",
       "      <th>total_charges</th>\n",
       "      <th>churn</th>\n",
       "    </tr>\n",
       "  </thead>\n",
       "  <tbody>\n",
       "    <tr>\n",
       "      <th>0</th>\n",
       "      <td>Female</td>\n",
       "      <td>0</td>\n",
       "      <td>Yes</td>\n",
       "      <td>No</td>\n",
       "      <td>1</td>\n",
       "      <td>No</td>\n",
       "      <td>No phone service</td>\n",
       "      <td>DSL</td>\n",
       "      <td>No</td>\n",
       "      <td>Yes</td>\n",
       "      <td>No</td>\n",
       "      <td>No</td>\n",
       "      <td>No</td>\n",
       "      <td>No</td>\n",
       "      <td>Month-to-month</td>\n",
       "      <td>Yes</td>\n",
       "      <td>Electronic check</td>\n",
       "      <td>29.85</td>\n",
       "      <td>29.85</td>\n",
       "      <td>No</td>\n",
       "    </tr>\n",
       "    <tr>\n",
       "      <th>1</th>\n",
       "      <td>Male</td>\n",
       "      <td>0</td>\n",
       "      <td>No</td>\n",
       "      <td>No</td>\n",
       "      <td>34</td>\n",
       "      <td>Yes</td>\n",
       "      <td>No</td>\n",
       "      <td>DSL</td>\n",
       "      <td>Yes</td>\n",
       "      <td>No</td>\n",
       "      <td>Yes</td>\n",
       "      <td>No</td>\n",
       "      <td>No</td>\n",
       "      <td>No</td>\n",
       "      <td>One year</td>\n",
       "      <td>No</td>\n",
       "      <td>Mailed check</td>\n",
       "      <td>56.95</td>\n",
       "      <td>1889.5</td>\n",
       "      <td>No</td>\n",
       "    </tr>\n",
       "  </tbody>\n",
       "</table>\n",
       "</div>"
      ],
      "text/plain": [
       "   gender  senior_citizen partner dependents  tenure phone_service  \\\n",
       "0  Female               0     Yes         No       1            No   \n",
       "1    Male               0      No         No      34           Yes   \n",
       "\n",
       "     multiple_lines internet_service online_security online_backup  \\\n",
       "0  No phone service              DSL              No           Yes   \n",
       "1                No              DSL             Yes            No   \n",
       "\n",
       "  device_protection tech_support streaming_tv streaming_movies  \\\n",
       "0                No           No           No               No   \n",
       "1               Yes           No           No               No   \n",
       "\n",
       "         contract paperless_billing    payment_method monthly_charges  \\\n",
       "0  Month-to-month               Yes  Electronic check           29.85   \n",
       "1        One year                No      Mailed check           56.95   \n",
       "\n",
       "  total_charges churn  \n",
       "0         29.85    No  \n",
       "1        1889.5    No  "
      ]
     },
     "execution_count": 10,
     "metadata": {},
     "output_type": "execute_result"
    }
   ],
   "source": [
    "df.head(2)"
   ]
  },
  {
   "cell_type": "markdown",
   "id": "ebff8c0f",
   "metadata": {},
   "source": [
    "Converting data types for `monthly_charges` and `total_charges`:"
   ]
  },
  {
   "cell_type": "code",
   "execution_count": 11,
   "id": "d97214fc",
   "metadata": {},
   "outputs": [],
   "source": [
    "df['monthly_charges'] = pd.to_numeric(df['monthly_charges'], errors='coerce')\n",
    "df['total_charges'] = pd.to_numeric(df['total_charges'], errors='coerce')"
   ]
  },
  {
   "cell_type": "code",
   "execution_count": 12,
   "id": "212427a1",
   "metadata": {},
   "outputs": [
    {
     "data": {
      "image/png": "[encoded data removed]",
      "text/plain": [
       "<Figure size 700x500 with 4 Axes>"
      ]
     },
     "metadata": {},
     "output_type": "display_data"
    }
   ],
   "source": [
    "df.hist(figsize=(7, 5))\n",
    "plt.tight_layout()\n",
    "plt.show()"
   ]
  },
  {
   "cell_type": "code",
   "execution_count": 13,
   "id": "ba2639c9",
   "metadata": {},
   "outputs": [
    {
     "data": {
      "image/png": "[encoded data removed]",
      "text/plain": [
       "<Figure size 700x500 with 4 Axes>"
      ]
     },
     "metadata": {},
     "output_type": "display_data"
    }
   ],
   "source": [
    "df.plot(kind='density', subplots=True, layout=(2, 2), figsize=(7, 5), sharex=False)\n",
    "plt.tight_layout()\n",
    "plt.show()"
   ]
  },
  {
   "cell_type": "markdown",
   "id": "2ddb8275",
   "metadata": {},
   "source": [
    "We can see that most of the clients are young."
   ]
  },
  {
   "cell_type": "code",
   "execution_count": 14,
   "id": "57b2ff78",
   "metadata": {},
   "outputs": [
    {
     "data": {
      "image/png": "[encoded data removed]",
      "text/plain": [
       "<Figure size 1400x500 with 4 Axes>"
      ]
     },
     "metadata": {},
     "output_type": "display_data"
    }
   ],
   "source": [
    "df.plot(kind='box', subplots=True, sharex=False, sharey=False, figsize=(14, 5))\n",
    "plt.show()"
   ]
  },
  {
   "cell_type": "markdown",
   "id": "4908b8de",
   "metadata": {},
   "source": [
    "### Gender:"
   ]
  },
  {
   "cell_type": "markdown",
   "id": "3cfc50a7",
   "metadata": {},
   "source": [
    "Customer involvement by gender:"
   ]
  },
  {
   "cell_type": "code",
   "execution_count": 15,
   "id": "45257555",
   "metadata": {},
   "outputs": [
    {
     "data": {
      "image/png": "[encoded data removed]",
      "text/plain": [
       "<Figure size 640x480 with 1 Axes>"
      ]
     },
     "metadata": {},
     "output_type": "display_data"
    }
   ],
   "source": [
    "sns.barplot(x=df['gender'].value_counts().index, \n",
    "            y=df['gender'].value_counts().values, \n",
    "            hue=df['gender'].value_counts().index)\n",
    "plt.title(\"Customer Involvement by Gender\")\n",
    "plt.show()"
   ]
  },
  {
   "cell_type": "markdown",
   "id": "6c322940",
   "metadata": {},
   "source": [
    "### Contract:"
   ]
  },
  {
   "cell_type": "code",
   "execution_count": 16,
   "id": "19aa1447",
   "metadata": {},
   "outputs": [
    {
     "data": {
      "image/png": "[encoded data removed]",
      "text/plain": [
       "<Figure size 700x560 with 1 Axes>"
      ]
     },
     "metadata": {},
     "output_type": "display_data"
    }
   ],
   "source": [
    "plt.figure(figsize=(7, 5.6))\n",
    "ax = sns.barplot(x=df['contract'].value_counts().index,\n",
    "                 y=df['contract'].value_counts().values,\n",
    "                 hue=df['contract'].value_counts().index\n",
    "                )\n",
    "\n",
    "\n",
    "for p in ax.patches:\n",
    "    ax.annotate(f'{int(p.get_height())}', \n",
    "                (p.get_x() + p.get_width() / 2., p.get_height()),\n",
    "                ha='center', va='center', \n",
    "                xytext=(0, 9), textcoords='offset points')\n",
    "\n",
    "plt.title(\"Customer Counts on Contract Basis\")\n",
    "plt.tight_layout()\n",
    "plt.show()"
   ]
  },
  {
   "cell_type": "markdown",
   "id": "f5b0e08b",
   "metadata": {},
   "source": [
    "This dataset has no any date columns else we could assume how long they have been in the business. If it has been for a short time then this chart shows the company is doing well as the contract for one year and two years are there which shows some level of trust and satisfaction but if the company is old then we need to come up with some strategies to turn customers from month-to-month subscription ot one or more year contract."
   ]
  },
  {
   "cell_type": "markdown",
   "id": "3202284f",
   "metadata": {},
   "source": [
    "### Tenure:"
   ]
  },
  {
   "cell_type": "code",
   "execution_count": 17,
   "id": "083bf3ca",
   "metadata": {},
   "outputs": [
    {
     "data": {
      "image/png": "[encoded data removed]",
      "text/plain": [
       "<Figure size 640x480 with 1 Axes>"
      ]
     },
     "metadata": {},
     "output_type": "display_data"
    }
   ],
   "source": [
    "sns.histplot(df['tenure'], bins=10)\n",
    "plt.title(\"Tenure Histogram Plot\")\n",
    "plt.show()"
   ]
  },
  {
   "cell_type": "markdown",
   "id": "b99f4a43",
   "metadata": {},
   "source": [
    "Here, is an interesting pattern, there are customers who have been with the company for past 70 months, and there are new batch of customer who are at their first experience ranging from their first to their fifth month of subscription. So, this shows, the company has been running their services for a long time and clears out doubt for earlier chart."
   ]
  },
  {
   "cell_type": "markdown",
   "id": "4da05821",
   "metadata": {},
   "source": [
    "### Customer Marriage Status:"
   ]
  },
  {
   "cell_type": "code",
   "execution_count": 18,
   "id": "04bb4afc",
   "metadata": {},
   "outputs": [
    {
     "data": {
      "image/png": "[encoded data removed]",
      "text/plain": [
       "<Figure size 700x600 with 1 Axes>"
      ]
     },
     "metadata": {},
     "output_type": "display_data"
    }
   ],
   "source": [
    "plt.figure(figsize=(7, 6))\n",
    "ax = sns.barplot(x=df['partner'].value_counts().index,\n",
    "                y=df['partner'].value_counts().values,\n",
    "                hue=df['partner'].value_counts().index)\n",
    "\n",
    "for p in ax.patches:\n",
    "    ax.annotate(f'{int(p.get_height())}', \n",
    "                (p.get_x() + p.get_width() / 2., p.get_height()),\n",
    "                ha='center', va='center', \n",
    "                xytext=(0, 9), textcoords='offset points')\n",
    "    \n",
    "plt.show()"
   ]
  },
  {
   "cell_type": "markdown",
   "id": "5b0ae1d7",
   "metadata": {},
   "source": [
    "## 3. Data Pre-processing:"
   ]
  },
  {
   "cell_type": "markdown",
   "id": "6251f2f1",
   "metadata": {},
   "source": [
    "### 3.1 Convert Churn column to binary data:"
   ]
  },
  {
   "cell_type": "code",
   "execution_count": 19,
   "id": "b4f02d93",
   "metadata": {},
   "outputs": [
    {
     "data": {
      "text/plain": [
       "churn\n",
       "0    5174\n",
       "1    1869\n",
       "Name: count, dtype: int64"
      ]
     },
     "execution_count": 19,
     "metadata": {},
     "output_type": "execute_result"
    }
   ],
   "source": [
    "df['churn'] = df['churn'].map({\"Yes\": 1, \"No\":0})\n",
    "df['churn'] = df['churn'].astype('object')\n",
    "df['churn'].value_counts()"
   ]
  },
  {
   "cell_type": "markdown",
   "id": "60496b53",
   "metadata": {},
   "source": [
    "Convert `senior_citizen` data type to object:"
   ]
  },
  {
   "cell_type": "code",
   "execution_count": 20,
   "id": "b08defc8",
   "metadata": {},
   "outputs": [],
   "source": [
    "df['senior_citizen'] = df['senior_citizen'].astype('object')"
   ]
  },
  {
   "cell_type": "code",
   "execution_count": 21,
   "id": "547b688c",
   "metadata": {},
   "outputs": [
    {
     "data": {
      "text/html": [
       "<div>\n",
       "<style scoped>\n",
       "    .dataframe tbody tr th:only-of-type {\n",
       "        vertical-align: middle;\n",
       "    }\n",
       "\n",
       "    .dataframe tbody tr th {\n",
       "        vertical-align: top;\n",
       "    }\n",
       "\n",
       "    .dataframe thead th {\n",
       "        text-align: right;\n",
       "    }\n",
       "</style>\n",
       "<table border=\"1\" class=\"dataframe\">\n",
       "  <thead>\n",
       "    <tr style=\"text-align: right;\">\n",
       "      <th></th>\n",
       "      <th>gender</th>\n",
       "      <th>senior_citizen</th>\n",
       "      <th>partner</th>\n",
       "      <th>dependents</th>\n",
       "      <th>tenure</th>\n",
       "      <th>phone_service</th>\n",
       "      <th>multiple_lines</th>\n",
       "      <th>internet_service</th>\n",
       "      <th>online_security</th>\n",
       "      <th>online_backup</th>\n",
       "      <th>device_protection</th>\n",
       "      <th>tech_support</th>\n",
       "      <th>streaming_tv</th>\n",
       "      <th>streaming_movies</th>\n",
       "      <th>contract</th>\n",
       "      <th>paperless_billing</th>\n",
       "      <th>payment_method</th>\n",
       "      <th>monthly_charges</th>\n",
       "      <th>total_charges</th>\n",
       "      <th>churn</th>\n",
       "    </tr>\n",
       "  </thead>\n",
       "  <tbody>\n",
       "    <tr>\n",
       "      <th>0</th>\n",
       "      <td>Female</td>\n",
       "      <td>0</td>\n",
       "      <td>Yes</td>\n",
       "      <td>No</td>\n",
       "      <td>1</td>\n",
       "      <td>No</td>\n",
       "      <td>No phone service</td>\n",
       "      <td>DSL</td>\n",
       "      <td>No</td>\n",
       "      <td>Yes</td>\n",
       "      <td>No</td>\n",
       "      <td>No</td>\n",
       "      <td>No</td>\n",
       "      <td>No</td>\n",
       "      <td>Month-to-month</td>\n",
       "      <td>Yes</td>\n",
       "      <td>Electronic check</td>\n",
       "      <td>29.85</td>\n",
       "      <td>29.85</td>\n",
       "      <td>0</td>\n",
       "    </tr>\n",
       "    <tr>\n",
       "      <th>1</th>\n",
       "      <td>Male</td>\n",
       "      <td>0</td>\n",
       "      <td>No</td>\n",
       "      <td>No</td>\n",
       "      <td>34</td>\n",
       "      <td>Yes</td>\n",
       "      <td>No</td>\n",
       "      <td>DSL</td>\n",
       "      <td>Yes</td>\n",
       "      <td>No</td>\n",
       "      <td>Yes</td>\n",
       "      <td>No</td>\n",
       "      <td>No</td>\n",
       "      <td>No</td>\n",
       "      <td>One year</td>\n",
       "      <td>No</td>\n",
       "      <td>Mailed check</td>\n",
       "      <td>56.95</td>\n",
       "      <td>1889.50</td>\n",
       "      <td>0</td>\n",
       "    </tr>\n",
       "  </tbody>\n",
       "</table>\n",
       "</div>"
      ],
      "text/plain": [
       "   gender senior_citizen partner dependents  tenure phone_service  \\\n",
       "0  Female              0     Yes         No       1            No   \n",
       "1    Male              0      No         No      34           Yes   \n",
       "\n",
       "     multiple_lines internet_service online_security online_backup  \\\n",
       "0  No phone service              DSL              No           Yes   \n",
       "1                No              DSL             Yes            No   \n",
       "\n",
       "  device_protection tech_support streaming_tv streaming_movies  \\\n",
       "0                No           No           No               No   \n",
       "1               Yes           No           No               No   \n",
       "\n",
       "         contract paperless_billing    payment_method  monthly_charges  \\\n",
       "0  Month-to-month               Yes  Electronic check            29.85   \n",
       "1        One year                No      Mailed check            56.95   \n",
       "\n",
       "   total_charges churn  \n",
       "0          29.85     0  \n",
       "1        1889.50     0  "
      ]
     },
     "execution_count": 21,
     "metadata": {},
     "output_type": "execute_result"
    }
   ],
   "source": [
    "df.head(2)"
   ]
  },
  {
   "cell_type": "markdown",
   "id": "4042c8e5",
   "metadata": {},
   "source": [
    "### 3.2 Data Encoding:"
   ]
  },
  {
   "cell_type": "markdown",
   "id": "c67103fe",
   "metadata": {},
   "source": [
    "In the categorical data that we have, there is no any Ordinal data, and these categorical columns also don't have too\n",
    "much of cardinality, so, here I will be using `One-hot Encoding.`"
   ]
  },
  {
   "cell_type": "code",
   "execution_count": 63,
   "id": "1214f54e",
   "metadata": {},
   "outputs": [
    {
     "data": {
      "text/html": [
       "<div>\n",
       "<style scoped>\n",
       "    .dataframe tbody tr th:only-of-type {\n",
       "        vertical-align: middle;\n",
       "    }\n",
       "\n",
       "    .dataframe tbody tr th {\n",
       "        vertical-align: top;\n",
       "    }\n",
       "\n",
       "    .dataframe thead th {\n",
       "        text-align: right;\n",
       "    }\n",
       "</style>\n",
       "<table border=\"1\" class=\"dataframe\">\n",
       "  <thead>\n",
       "    <tr style=\"text-align: right;\">\n",
       "      <th></th>\n",
       "      <th>gender</th>\n",
       "      <th>senior_citizen</th>\n",
       "      <th>partner</th>\n",
       "      <th>dependents</th>\n",
       "      <th>tenure</th>\n",
       "      <th>phone_service</th>\n",
       "      <th>multiple_lines</th>\n",
       "      <th>internet_service</th>\n",
       "      <th>online_security</th>\n",
       "      <th>online_backup</th>\n",
       "      <th>device_protection</th>\n",
       "      <th>tech_support</th>\n",
       "      <th>streaming_tv</th>\n",
       "      <th>streaming_movies</th>\n",
       "      <th>contract</th>\n",
       "      <th>paperless_billing</th>\n",
       "      <th>payment_method</th>\n",
       "      <th>monthly_charges</th>\n",
       "      <th>total_charges</th>\n",
       "      <th>churn</th>\n",
       "    </tr>\n",
       "  </thead>\n",
       "  <tbody>\n",
       "    <tr>\n",
       "      <th>0</th>\n",
       "      <td>Female</td>\n",
       "      <td>0</td>\n",
       "      <td>Yes</td>\n",
       "      <td>No</td>\n",
       "      <td>1</td>\n",
       "      <td>No</td>\n",
       "      <td>No phone service</td>\n",
       "      <td>DSL</td>\n",
       "      <td>No</td>\n",
       "      <td>Yes</td>\n",
       "      <td>No</td>\n",
       "      <td>No</td>\n",
       "      <td>No</td>\n",
       "      <td>No</td>\n",
       "      <td>Month-to-month</td>\n",
       "      <td>Yes</td>\n",
       "      <td>Electronic check</td>\n",
       "      <td>29.85</td>\n",
       "      <td>29.85</td>\n",
       "      <td>0</td>\n",
       "    </tr>\n",
       "    <tr>\n",
       "      <th>1</th>\n",
       "      <td>Male</td>\n",
       "      <td>0</td>\n",
       "      <td>No</td>\n",
       "      <td>No</td>\n",
       "      <td>34</td>\n",
       "      <td>Yes</td>\n",
       "      <td>No</td>\n",
       "      <td>DSL</td>\n",
       "      <td>Yes</td>\n",
       "      <td>No</td>\n",
       "      <td>Yes</td>\n",
       "      <td>No</td>\n",
       "      <td>No</td>\n",
       "      <td>No</td>\n",
       "      <td>One year</td>\n",
       "      <td>No</td>\n",
       "      <td>Mailed check</td>\n",
       "      <td>56.95</td>\n",
       "      <td>1889.50</td>\n",
       "      <td>0</td>\n",
       "    </tr>\n",
       "  </tbody>\n",
       "</table>\n",
       "</div>"
      ],
      "text/plain": [
       "   gender senior_citizen partner dependents  tenure phone_service  \\\n",
       "0  Female              0     Yes         No       1            No   \n",
       "1    Male              0      No         No      34           Yes   \n",
       "\n",
       "     multiple_lines internet_service online_security online_backup  \\\n",
       "0  No phone service              DSL              No           Yes   \n",
       "1                No              DSL             Yes            No   \n",
       "\n",
       "  device_protection tech_support streaming_tv streaming_movies  \\\n",
       "0                No           No           No               No   \n",
       "1               Yes           No           No               No   \n",
       "\n",
       "         contract paperless_billing    payment_method  monthly_charges  \\\n",
       "0  Month-to-month               Yes  Electronic check            29.85   \n",
       "1        One year                No      Mailed check            56.95   \n",
       "\n",
       "   total_charges churn  \n",
       "0          29.85     0  \n",
       "1        1889.50     0  "
      ]
     },
     "execution_count": 63,
     "metadata": {},
     "output_type": "execute_result"
    }
   ],
   "source": [
    "df.head(2)"
   ]
  },
  {
   "cell_type": "markdown",
   "id": "e6aaa32e",
   "metadata": {},
   "source": [
    "#### Separate data into dependent and independent features:"
   ]
  },
  {
   "cell_type": "code",
   "execution_count": 55,
   "id": "75feabc9",
   "metadata": {},
   "outputs": [],
   "source": [
    "X = df.iloc[:, 0:-1]\n",
    "y = df.iloc[:, -1]"
   ]
  },
  {
   "cell_type": "markdown",
   "id": "99d2f0f2",
   "metadata": {},
   "source": [
    "Separate the categorical and numerical feauture for `Encoding` and calculating `Correlation and VIF`:"
   ]
  },
  {
   "cell_type": "code",
   "execution_count": 56,
   "id": "6c946bc5",
   "metadata": {},
   "outputs": [],
   "source": [
    "numerical_df = X.select_dtypes(include=['int64', 'float64'])"
   ]
  },
  {
   "cell_type": "code",
   "execution_count": 51,
   "id": "17473f78",
   "metadata": {},
   "outputs": [],
   "source": [
    "categorical_df = X.select_dtypes(include=['object'])\n",
    "categorical_cols = categorical_df.columns\n",
    "transformers = [(col, OneHotEncoder(), [col]) for col in categorical_cols]\n",
    "\n",
    "column_transformer = ColumnTransformer(\n",
    "    transformers=transformers, \n",
    "    remainder='passthrough'\n",
    ")\n",
    "\n",
    "\n",
    "encoded_data = column_transformer.fit_transform(X)  \n",
    "encoded_df = pd.DataFrame(encoded_data, columns=column_transformer.get_feature_names_out())\n"
   ]
  },
  {
   "cell_type": "markdown",
   "id": "390a51d5",
   "metadata": {},
   "source": [
    "### 3.3 Correlation and Multi-Collinearity:"
   ]
  },
  {
   "cell_type": "markdown",
   "id": "3c12f700",
   "metadata": {},
   "source": [
    "#### Concate the numerical feature and the target label for correlation:"
   ]
  },
  {
   "cell_type": "code",
   "execution_count": 66,
   "id": "4d068b52",
   "metadata": {},
   "outputs": [],
   "source": [
    "numerica_df_target = pd.concat([numerical_df, y], axis=1)"
   ]
  },
  {
   "cell_type": "code",
   "execution_count": 67,
   "id": "0ba166c1",
   "metadata": {},
   "outputs": [],
   "source": [
    "data_corr = numerica_df_target.corr()"
   ]
  },
  {
   "cell_type": "code",
   "execution_count": 70,
   "id": "63596d30",
   "metadata": {},
   "outputs": [
    {
     "data": {
      "image/png": "[encoded data removed]",
      "text/plain": [
       "<Figure size 800x400 with 2 Axes>"
      ]
     },
     "metadata": {},
     "output_type": "display_data"
    }
   ],
   "source": [
    "plt.figure(figsize=(8, 4))\n",
    "sns.heatmap(data_corr, annot=True, fmt='.2f', linewidths=0.75, cmap='coolwarm')\n",
    "plt.title('Correlation Heat Map')\n",
    "plt.show()"
   ]
  },
  {
   "cell_type": "code",
   "execution_count": 81,
   "id": "e7731f4d",
   "metadata": {},
   "outputs": [
    {
     "data": {
      "text/html": [
       "<div>\n",
       "<style scoped>\n",
       "    .dataframe tbody tr th:only-of-type {\n",
       "        vertical-align: middle;\n",
       "    }\n",
       "\n",
       "    .dataframe tbody tr th {\n",
       "        vertical-align: top;\n",
       "    }\n",
       "\n",
       "    .dataframe thead th {\n",
       "        text-align: right;\n",
       "    }\n",
       "</style>\n",
       "<table border=\"1\" class=\"dataframe\">\n",
       "  <thead>\n",
       "    <tr style=\"text-align: right;\">\n",
       "      <th></th>\n",
       "      <th>feature</th>\n",
       "      <th>VIF</th>\n",
       "    </tr>\n",
       "  </thead>\n",
       "  <tbody>\n",
       "    <tr>\n",
       "      <th>0</th>\n",
       "      <td>tenure</td>\n",
       "      <td>6.332328</td>\n",
       "    </tr>\n",
       "    <tr>\n",
       "      <th>1</th>\n",
       "      <td>monthly_charges</td>\n",
       "      <td>3.355660</td>\n",
       "    </tr>\n",
       "    <tr>\n",
       "      <th>2</th>\n",
       "      <td>total_charges</td>\n",
       "      <td>8.075070</td>\n",
       "    </tr>\n",
       "  </tbody>\n",
       "</table>\n",
       "</div>"
      ],
      "text/plain": [
       "           feature       VIF\n",
       "0           tenure  6.332328\n",
       "1  monthly_charges  3.355660\n",
       "2    total_charges  8.075070"
      ]
     },
     "execution_count": 81,
     "metadata": {},
     "output_type": "execute_result"
    }
   ],
   "source": [
    "vif_data = pd.DataFrame()\n",
    "vif_data[\"feature\"] = numerical_df.columns\n",
    "vif_data[\"VIF\"] = [variance_inflation_factor(numerical_df.values, i) for i in range(numerical_df.shape[1])]\n",
    "\n",
    "vif_data"
   ]
  },
  {
   "cell_type": "code",
   "execution_count": 91,
   "id": "101ef3d2",
   "metadata": {},
   "outputs": [
    {
     "data": {
      "image/png": "[encoded data removed]",
      "text/plain": [
       "<Figure size 600x400 with 1 Axes>"
      ]
     },
     "metadata": {},
     "output_type": "display_data"
    }
   ],
   "source": [
    "plt.figure(figsize=(6, 4))\n",
    "plt.bar(x='feature', height='VIF', data=vif_data)\n",
    "plt.title('VIF values for Mult-collinearity Check')\n",
    "plt.axhline(y=10, color='red', linestyle='--', linewidth=1, label='Threshold (VIF=10)')\n",
    "plt.xlabel(\"Features\")\n",
    "plt.ylabel(\"VIF Value\")\n",
    "plt.title(\"VIF Values for Multicollinearity Check\")\n",
    "plt.legend(loc='upper left', bbox_to_anchor=(1, 1))\n",
    "plt.tight_layout()\n",
    "plt.show()"
   ]
  },
  {
   "cell_type": "markdown",
   "id": "f4c640cc",
   "metadata": {},
   "source": [
    "Here, the VIF values are < 10, so there is no any multi-collinearity."
   ]
  },
  {
   "cell_type": "markdown",
   "id": "ca914b9a",
   "metadata": {},
   "source": [
    "## 4. Feature Scaling:"
   ]
  },
  {
   "cell_type": "code",
   "execution_count": 104,
   "id": "4fe6e91a",
   "metadata": {},
   "outputs": [],
   "source": [
    "X_train, X_test, y_train, y_test = train_test_split(encoded_df, y, test_size=0.2, random_state=42)"
   ]
  },
  {
   "cell_type": "code",
   "execution_count": 105,
   "id": "e37f26cb",
   "metadata": {},
   "outputs": [
    {
     "data": {
      "text/html": [
       "<div>\n",
       "<style scoped>\n",
       "    .dataframe tbody tr th:only-of-type {\n",
       "        vertical-align: middle;\n",
       "    }\n",
       "\n",
       "    .dataframe tbody tr th {\n",
       "        vertical-align: top;\n",
       "    }\n",
       "\n",
       "    .dataframe thead th {\n",
       "        text-align: right;\n",
       "    }\n",
       "</style>\n",
       "<table border=\"1\" class=\"dataframe\">\n",
       "  <thead>\n",
       "    <tr style=\"text-align: right;\">\n",
       "      <th></th>\n",
       "      <th>gender__gender_Female</th>\n",
       "      <th>gender__gender_Male</th>\n",
       "      <th>senior_citizen__senior_citizen_0</th>\n",
       "      <th>senior_citizen__senior_citizen_1</th>\n",
       "      <th>partner__partner_No</th>\n",
       "      <th>partner__partner_Yes</th>\n",
       "      <th>dependents__dependents_No</th>\n",
       "      <th>dependents__dependents_Yes</th>\n",
       "      <th>phone_service__phone_service_No</th>\n",
       "      <th>phone_service__phone_service_Yes</th>\n",
       "      <th>...</th>\n",
       "      <th>contract__contract_Two year</th>\n",
       "      <th>paperless_billing__paperless_billing_No</th>\n",
       "      <th>paperless_billing__paperless_billing_Yes</th>\n",
       "      <th>payment_method__payment_method_Bank transfer (automatic)</th>\n",
       "      <th>payment_method__payment_method_Credit card (automatic)</th>\n",
       "      <th>payment_method__payment_method_Electronic check</th>\n",
       "      <th>payment_method__payment_method_Mailed check</th>\n",
       "      <th>remainder__tenure</th>\n",
       "      <th>remainder__monthly_charges</th>\n",
       "      <th>remainder__total_charges</th>\n",
       "    </tr>\n",
       "  </thead>\n",
       "  <tbody>\n",
       "    <tr>\n",
       "      <th>2142</th>\n",
       "      <td>1.0</td>\n",
       "      <td>0.0</td>\n",
       "      <td>1.0</td>\n",
       "      <td>0.0</td>\n",
       "      <td>1.0</td>\n",
       "      <td>0.0</td>\n",
       "      <td>0.0</td>\n",
       "      <td>1.0</td>\n",
       "      <td>0.0</td>\n",
       "      <td>1.0</td>\n",
       "      <td>...</td>\n",
       "      <td>0.0</td>\n",
       "      <td>1.0</td>\n",
       "      <td>0.0</td>\n",
       "      <td>0.0</td>\n",
       "      <td>0.0</td>\n",
       "      <td>0.0</td>\n",
       "      <td>1.0</td>\n",
       "      <td>21.0</td>\n",
       "      <td>64.85</td>\n",
       "      <td>1336.8</td>\n",
       "    </tr>\n",
       "  </tbody>\n",
       "</table>\n",
       "<p>1 rows × 46 columns</p>\n",
       "</div>"
      ],
      "text/plain": [
       "      gender__gender_Female  gender__gender_Male  \\\n",
       "2142                    1.0                  0.0   \n",
       "\n",
       "      senior_citizen__senior_citizen_0  senior_citizen__senior_citizen_1  \\\n",
       "2142                               1.0                               0.0   \n",
       "\n",
       "      partner__partner_No  partner__partner_Yes  dependents__dependents_No  \\\n",
       "2142                  1.0                   0.0                        0.0   \n",
       "\n",
       "      dependents__dependents_Yes  phone_service__phone_service_No  \\\n",
       "2142                         1.0                              0.0   \n",
       "\n",
       "      phone_service__phone_service_Yes  ...  contract__contract_Two year  \\\n",
       "2142                               1.0  ...                          0.0   \n",
       "\n",
       "      paperless_billing__paperless_billing_No  \\\n",
       "2142                                      1.0   \n",
       "\n",
       "      paperless_billing__paperless_billing_Yes  \\\n",
       "2142                                       0.0   \n",
       "\n",
       "      payment_method__payment_method_Bank transfer (automatic)  \\\n",
       "2142                                                0.0          \n",
       "\n",
       "      payment_method__payment_method_Credit card (automatic)  \\\n",
       "2142                                                0.0        \n",
       "\n",
       "      payment_method__payment_method_Electronic check  \\\n",
       "2142                                              0.0   \n",
       "\n",
       "      payment_method__payment_method_Mailed check  remainder__tenure  \\\n",
       "2142                                          1.0               21.0   \n",
       "\n",
       "      remainder__monthly_charges  remainder__total_charges  \n",
       "2142                       64.85                    1336.8  \n",
       "\n",
       "[1 rows x 46 columns]"
      ]
     },
     "execution_count": 105,
     "metadata": {},
     "output_type": "execute_result"
    }
   ],
   "source": [
    "X_train.head(1)"
   ]
  },
  {
   "cell_type": "code",
   "execution_count": 106,
   "id": "648f28cd",
   "metadata": {},
   "outputs": [],
   "source": [
    "numerical_columns = X_train.iloc[:, -3:].columns.to_list()"
   ]
  },
  {
   "cell_type": "code",
   "execution_count": 107,
   "id": "cd00bac2",
   "metadata": {},
   "outputs": [
    {
     "data": {
      "text/plain": [
       "['remainder__tenure', 'remainder__monthly_charges', 'remainder__total_charges']"
      ]
     },
     "execution_count": 107,
     "metadata": {},
     "output_type": "execute_result"
    }
   ],
   "source": [
    "numerical_columns"
   ]
  },
  {
   "cell_type": "code",
   "execution_count": 108,
   "id": "3e92e811",
   "metadata": {},
   "outputs": [],
   "source": [
    "column_transformer = ColumnTransformer(\n",
    "    transformers=[\n",
    "        ('num_scaler', StandardScaler(), numerical_columns), \n",
    "    ],\n",
    "    remainder='passthrough')"
   ]
  },
  {
   "cell_type": "code",
   "execution_count": 112,
   "id": "9b7e8616",
   "metadata": {},
   "outputs": [],
   "source": [
    "X_train_scaled = column_transformer.fit_transform(X_train)\n",
    "scaled_col_names = column_transformer.get_feature_names_out()\n",
    "X_train_scaled_df = pd.DataFrame(X_train_scaled, columns=scaled_col_names)"
   ]
  },
  {
   "cell_type": "code",
   "execution_count": 114,
   "id": "66db19c6",
   "metadata": {},
   "outputs": [],
   "source": [
    "X_test_scaled = column_transformer.transform(X_test)\n",
    "X_test_scaled_df = pd.DataFrame(X_test_scaled, columns=scaled_col_names)"
   ]
  },
  {
   "cell_type": "markdown",
   "id": "bd16912a",
   "metadata": {},
   "source": [
    "## 5. Feature Selection:"
   ]
  },
  {
   "cell_type": "code",
   "execution_count": null,
   "id": "130cc42a",
   "metadata": {},
   "outputs": [],
   "source": []
  },
  {
   "cell_type": "code",
   "execution_count": null,
   "id": "9a48b946",
   "metadata": {},
   "outputs": [],
   "source": []
  },
  {
   "cell_type": "code",
   "execution_count": null,
   "id": "180c6db1",
   "metadata": {},
   "outputs": [],
   "source": []
  }
 ],
 "metadata": {
  "kernelspec": {
   "display_name": "Python (myenv)",
   "language": "python",
   "name": "churn_venv"
  },
  "language_info": {
   "codemirror_mode": {
    "name": "ipython",
    "version": 3
   },
   "file_extension": ".py",
   "mimetype": "text/x-python",
   "name": "python",
   "nbconvert_exporter": "python",
   "pygments_lexer": "ipython3",
   "version": "3.10.4"
  }
 },
 "nbformat": 4,
 "nbformat_minor": 5
}
