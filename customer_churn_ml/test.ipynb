{
 "cells": [
  {
   "cell_type": "code",
   "execution_count": 1,
   "id": "73f59525",
   "metadata": {},
   "outputs": [],
   "source": [
    "import os\n",
    "import sys\n",
    "sys.path.append(os.path.abspath('..')) "
   ]
  },
  {
   "cell_type": "code",
   "execution_count": 2,
   "id": "7db02bd9",
   "metadata": {},
   "outputs": [
    {
     "name": "stderr",
     "output_type": "stream",
     "text": [
      "D:\\Data\\Projects for GitHub\\Customer Churn\\Churn-prediction-and-analysis\\churn_venv\\lib\\site-packages\\tqdm\\auto.py:21: TqdmWarning: IProgress not found. Please update jupyter and ipywidgets. See https://ipywidgets.readthedocs.io/en/stable/user_install.html\n",
      "  from .autonotebook import tqdm as notebook_tqdm\n"
     ]
    }
   ],
   "source": [
    "import joblib\n",
    "from customer_churn_ml.data_loader import load_data\n",
    "import pandas as pd\n",
    "import numpy as np\n",
    "import shap"
   ]
  },
  {
   "cell_type": "code",
   "execution_count": 3,
   "id": "6099924b",
   "metadata": {},
   "outputs": [],
   "source": [
    "data = load_data()"
   ]
  },
  {
   "cell_type": "code",
   "execution_count": 4,
   "id": "9f083abc",
   "metadata": {},
   "outputs": [],
   "source": [
    "test = data[:20]"
   ]
  },
  {
   "cell_type": "code",
   "execution_count": 5,
   "id": "868d5167",
   "metadata": {},
   "outputs": [],
   "source": [
    "test = test.drop(columns=['customer_id'])"
   ]
  },
  {
   "cell_type": "code",
   "execution_count": 6,
   "id": "6993d0b6",
   "metadata": {},
   "outputs": [
    {
     "data": {
      "text/html": [
       "<div>\n",
       "<style scoped>\n",
       "    .dataframe tbody tr th:only-of-type {\n",
       "        vertical-align: middle;\n",
       "    }\n",
       "\n",
       "    .dataframe tbody tr th {\n",
       "        vertical-align: top;\n",
       "    }\n",
       "\n",
       "    .dataframe thead th {\n",
       "        text-align: right;\n",
       "    }\n",
       "</style>\n",
       "<table border=\"1\" class=\"dataframe\">\n",
       "  <thead>\n",
       "    <tr style=\"text-align: right;\">\n",
       "      <th></th>\n",
       "      <th>gender</th>\n",
       "      <th>senior_citizen</th>\n",
       "      <th>partner</th>\n",
       "      <th>dependents</th>\n",
       "      <th>tenure</th>\n",
       "      <th>phone_service</th>\n",
       "      <th>multiple_lines</th>\n",
       "      <th>internet_service</th>\n",
       "      <th>online_security</th>\n",
       "      <th>online_backup</th>\n",
       "      <th>device_protection</th>\n",
       "      <th>tech_support</th>\n",
       "      <th>streaming_tv</th>\n",
       "      <th>streaming_movies</th>\n",
       "      <th>contract</th>\n",
       "      <th>paperless_billing</th>\n",
       "      <th>payment_method</th>\n",
       "      <th>monthly_charges</th>\n",
       "      <th>total_charges</th>\n",
       "      <th>churn</th>\n",
       "    </tr>\n",
       "  </thead>\n",
       "  <tbody>\n",
       "    <tr>\n",
       "      <th>0</th>\n",
       "      <td>Male</td>\n",
       "      <td>0</td>\n",
       "      <td>No</td>\n",
       "      <td>No</td>\n",
       "      <td>34</td>\n",
       "      <td>Yes</td>\n",
       "      <td>No</td>\n",
       "      <td>DSL</td>\n",
       "      <td>Yes</td>\n",
       "      <td>No</td>\n",
       "      <td>Yes</td>\n",
       "      <td>No</td>\n",
       "      <td>No</td>\n",
       "      <td>No</td>\n",
       "      <td>One year</td>\n",
       "      <td>No</td>\n",
       "      <td>Mailed check</td>\n",
       "      <td>56.95</td>\n",
       "      <td>1889.5</td>\n",
       "      <td>No</td>\n",
       "    </tr>\n",
       "    <tr>\n",
       "      <th>1</th>\n",
       "      <td>Male</td>\n",
       "      <td>0</td>\n",
       "      <td>No</td>\n",
       "      <td>No</td>\n",
       "      <td>2</td>\n",
       "      <td>Yes</td>\n",
       "      <td>No</td>\n",
       "      <td>DSL</td>\n",
       "      <td>Yes</td>\n",
       "      <td>Yes</td>\n",
       "      <td>No</td>\n",
       "      <td>No</td>\n",
       "      <td>No</td>\n",
       "      <td>No</td>\n",
       "      <td>Month-to-month</td>\n",
       "      <td>Yes</td>\n",
       "      <td>Mailed check</td>\n",
       "      <td>53.85</td>\n",
       "      <td>108.15</td>\n",
       "      <td>Yes</td>\n",
       "    </tr>\n",
       "  </tbody>\n",
       "</table>\n",
       "</div>"
      ],
      "text/plain": [
       "  gender  senior_citizen partner dependents  tenure phone_service  \\\n",
       "0   Male               0      No         No      34           Yes   \n",
       "1   Male               0      No         No       2           Yes   \n",
       "\n",
       "  multiple_lines internet_service online_security online_backup  \\\n",
       "0             No              DSL             Yes            No   \n",
       "1             No              DSL             Yes           Yes   \n",
       "\n",
       "  device_protection tech_support streaming_tv streaming_movies  \\\n",
       "0               Yes           No           No               No   \n",
       "1                No           No           No               No   \n",
       "\n",
       "         contract paperless_billing payment_method monthly_charges  \\\n",
       "0        One year                No   Mailed check           56.95   \n",
       "1  Month-to-month               Yes   Mailed check           53.85   \n",
       "\n",
       "  total_charges churn  \n",
       "0        1889.5    No  \n",
       "1        108.15   Yes  "
      ]
     },
     "execution_count": 6,
     "metadata": {},
     "output_type": "execute_result"
    }
   ],
   "source": [
    "test.head(2)"
   ]
  },
  {
   "cell_type": "code",
   "execution_count": 7,
   "id": "8247faec",
   "metadata": {},
   "outputs": [],
   "source": [
    "model = joblib.load(\"churn_clf_model.pkl\")"
   ]
  },
  {
   "cell_type": "code",
   "execution_count": 8,
   "id": "bbec1dde",
   "metadata": {},
   "outputs": [
    {
     "data": {
      "text/plain": [
       "{'preprocessor': ColumnTransformer(remainder='passthrough',\n",
       "                   transformers=[('encoding',\n",
       "                                  OneHotEncoder(handle_unknown='ignore'),\n",
       "                                  ['gender', 'senior_citizen', 'partner',\n",
       "                                   'dependents', 'phone_service',\n",
       "                                   'multiple_lines', 'internet_service',\n",
       "                                   'online_security', 'online_backup',\n",
       "                                   'device_protection', 'tech_support',\n",
       "                                   'streaming_tv', 'streaming_movies',\n",
       "                                   'contract', 'paperless_billing',\n",
       "                                   'payment_method'])]),\n",
       " 'model': ExtraTreesClassifier(class_weight='balanced', max_depth=20, max_features='log2',\n",
       "                      min_samples_leaf=10, min_samples_split=15,\n",
       "                      n_estimators=250, random_state=42)}"
      ]
     },
     "execution_count": 8,
     "metadata": {},
     "output_type": "execute_result"
    }
   ],
   "source": [
    "model.named_steps"
   ]
  },
  {
   "cell_type": "code",
   "execution_count": 9,
   "id": "30f93b1b",
   "metadata": {},
   "outputs": [],
   "source": [
    "model_name = model.named_steps['model']"
   ]
  },
  {
   "cell_type": "code",
   "execution_count": 10,
   "id": "b5fc020e",
   "metadata": {},
   "outputs": [
    {
     "data": {
      "text/html": [
       "<style>#sk-container-id-1 {color: black;}#sk-container-id-1 pre{padding: 0;}#sk-container-id-1 div.sk-toggleable {background-color: white;}#sk-container-id-1 label.sk-toggleable__label {cursor: pointer;display: block;width: 100%;margin-bottom: 0;padding: 0.3em;box-sizing: border-box;text-align: center;}#sk-container-id-1 label.sk-toggleable__label-arrow:before {content: \"▸\";float: left;margin-right: 0.25em;color: #696969;}#sk-container-id-1 label.sk-toggleable__label-arrow:hover:before {color: black;}#sk-container-id-1 div.sk-estimator:hover label.sk-toggleable__label-arrow:before {color: black;}#sk-container-id-1 div.sk-toggleable__content {max-height: 0;max-width: 0;overflow: hidden;text-align: left;background-color: #f0f8ff;}#sk-container-id-1 div.sk-toggleable__content pre {margin: 0.2em;color: black;border-radius: 0.25em;background-color: #f0f8ff;}#sk-container-id-1 input.sk-toggleable__control:checked~div.sk-toggleable__content {max-height: 200px;max-width: 100%;overflow: auto;}#sk-container-id-1 input.sk-toggleable__control:checked~label.sk-toggleable__label-arrow:before {content: \"▾\";}#sk-container-id-1 div.sk-estimator input.sk-toggleable__control:checked~label.sk-toggleable__label {background-color: #d4ebff;}#sk-container-id-1 div.sk-label input.sk-toggleable__control:checked~label.sk-toggleable__label {background-color: #d4ebff;}#sk-container-id-1 input.sk-hidden--visually {border: 0;clip: rect(1px 1px 1px 1px);clip: rect(1px, 1px, 1px, 1px);height: 1px;margin: -1px;overflow: hidden;padding: 0;position: absolute;width: 1px;}#sk-container-id-1 div.sk-estimator {font-family: monospace;background-color: #f0f8ff;border: 1px dotted black;border-radius: 0.25em;box-sizing: border-box;margin-bottom: 0.5em;}#sk-container-id-1 div.sk-estimator:hover {background-color: #d4ebff;}#sk-container-id-1 div.sk-parallel-item::after {content: \"\";width: 100%;border-bottom: 1px solid gray;flex-grow: 1;}#sk-container-id-1 div.sk-label:hover label.sk-toggleable__label {background-color: #d4ebff;}#sk-container-id-1 div.sk-serial::before {content: \"\";position: absolute;border-left: 1px solid gray;box-sizing: border-box;top: 0;bottom: 0;left: 50%;z-index: 0;}#sk-container-id-1 div.sk-serial {display: flex;flex-direction: column;align-items: center;background-color: white;padding-right: 0.2em;padding-left: 0.2em;position: relative;}#sk-container-id-1 div.sk-item {position: relative;z-index: 1;}#sk-container-id-1 div.sk-parallel {display: flex;align-items: stretch;justify-content: center;background-color: white;position: relative;}#sk-container-id-1 div.sk-item::before, #sk-container-id-1 div.sk-parallel-item::before {content: \"\";position: absolute;border-left: 1px solid gray;box-sizing: border-box;top: 0;bottom: 0;left: 50%;z-index: -1;}#sk-container-id-1 div.sk-parallel-item {display: flex;flex-direction: column;z-index: 1;position: relative;background-color: white;}#sk-container-id-1 div.sk-parallel-item:first-child::after {align-self: flex-end;width: 50%;}#sk-container-id-1 div.sk-parallel-item:last-child::after {align-self: flex-start;width: 50%;}#sk-container-id-1 div.sk-parallel-item:only-child::after {width: 0;}#sk-container-id-1 div.sk-dashed-wrapped {border: 1px dashed gray;margin: 0 0.4em 0.5em 0.4em;box-sizing: border-box;padding-bottom: 0.4em;background-color: white;}#sk-container-id-1 div.sk-label label {font-family: monospace;font-weight: bold;display: inline-block;line-height: 1.2em;}#sk-container-id-1 div.sk-label-container {text-align: center;}#sk-container-id-1 div.sk-container {/* jupyter's `normalize.less` sets `[hidden] { display: none; }` but bootstrap.min.css set `[hidden] { display: none !important; }` so we also need the `!important` here to be able to override the default hidden behavior on the sphinx rendered scikit-learn.org. See: https://github.com/scikit-learn/scikit-learn/issues/21755 */display: inline-block !important;position: relative;}#sk-container-id-1 div.sk-text-repr-fallback {display: none;}</style><div id=\"sk-container-id-1\" class=\"sk-top-container\"><div class=\"sk-text-repr-fallback\"><pre>ExtraTreesClassifier(class_weight=&#x27;balanced&#x27;, max_depth=20, max_features=&#x27;log2&#x27;,\n",
       "                     min_samples_leaf=10, min_samples_split=15,\n",
       "                     n_estimators=250, random_state=42)</pre><b>In a Jupyter environment, please rerun this cell to show the HTML representation or trust the notebook. <br />On GitHub, the HTML representation is unable to render, please try loading this page with nbviewer.org.</b></div><div class=\"sk-container\" hidden><div class=\"sk-item\"><div class=\"sk-estimator sk-toggleable\"><input class=\"sk-toggleable__control sk-hidden--visually\" id=\"sk-estimator-id-1\" type=\"checkbox\" checked><label for=\"sk-estimator-id-1\" class=\"sk-toggleable__label sk-toggleable__label-arrow\">ExtraTreesClassifier</label><div class=\"sk-toggleable__content\"><pre>ExtraTreesClassifier(class_weight=&#x27;balanced&#x27;, max_depth=20, max_features=&#x27;log2&#x27;,\n",
       "                     min_samples_leaf=10, min_samples_split=15,\n",
       "                     n_estimators=250, random_state=42)</pre></div></div></div></div></div>"
      ],
      "text/plain": [
       "ExtraTreesClassifier(class_weight='balanced', max_depth=20, max_features='log2',\n",
       "                     min_samples_leaf=10, min_samples_split=15,\n",
       "                     n_estimators=250, random_state=42)"
      ]
     },
     "execution_count": 10,
     "metadata": {},
     "output_type": "execute_result"
    }
   ],
   "source": [
    "model_name"
   ]
  },
  {
   "cell_type": "code",
   "execution_count": 11,
   "id": "d0e8ec2d",
   "metadata": {},
   "outputs": [],
   "source": [
    "preprocessor = model.named_steps['preprocessor']"
   ]
  },
  {
   "cell_type": "code",
   "execution_count": 12,
   "id": "eb10a81f",
   "metadata": {},
   "outputs": [],
   "source": [
    "X_train = test.iloc[:, :-1]"
   ]
  },
  {
   "cell_type": "code",
   "execution_count": 21,
   "id": "d67c367d",
   "metadata": {},
   "outputs": [
    {
     "data": {
      "text/plain": [
       "19"
      ]
     },
     "execution_count": 21,
     "metadata": {},
     "output_type": "execute_result"
    }
   ],
   "source": [
    "len(X_train.columns)"
   ]
  },
  {
   "cell_type": "code",
   "execution_count": 13,
   "id": "8815c809",
   "metadata": {},
   "outputs": [],
   "source": [
    "test = X_train"
   ]
  },
  {
   "cell_type": "code",
   "execution_count": 14,
   "id": "751469fc",
   "metadata": {},
   "outputs": [],
   "source": [
    "test['senior_citizen'] = test['senior_citizen'].astype(object)"
   ]
  },
  {
   "cell_type": "code",
   "execution_count": 15,
   "id": "f040c919",
   "metadata": {},
   "outputs": [],
   "source": [
    "pre_processed = preprocessor.transform(test)"
   ]
  },
  {
   "cell_type": "code",
   "execution_count": 16,
   "id": "3b668f58",
   "metadata": {},
   "outputs": [],
   "source": [
    "explainer = shap.TreeExplainer(model_name)"
   ]
  },
  {
   "cell_type": "code",
   "execution_count": 17,
   "id": "ab09116c",
   "metadata": {},
   "outputs": [],
   "source": [
    "shap_vals = explainer.shap_values(X=pre_processed)"
   ]
  },
  {
   "cell_type": "code",
   "execution_count": 30,
   "id": "8944455d",
   "metadata": {},
   "outputs": [
    {
     "data": {
      "text/plain": [
       "(46, 2)"
      ]
     },
     "execution_count": 30,
     "metadata": {},
     "output_type": "execute_result"
    }
   ],
   "source": [
    "shap_vals[0].shape"
   ]
  },
  {
   "cell_type": "markdown",
   "id": "1aa5da87",
   "metadata": {},
   "source": [
    "### DeepSeek:"
   ]
  },
  {
   "cell_type": "code",
   "execution_count": 26,
   "id": "435b7274",
   "metadata": {},
   "outputs": [],
   "source": [
    "transformed_features = preprocessor.get_feature_names_out()"
   ]
  },
  {
   "cell_type": "code",
   "execution_count": 28,
   "id": "5bc3e126",
   "metadata": {},
   "outputs": [],
   "source": [
    "categorical_features = preprocessor.transformers[0][2]  # Names of categorical features\n",
    "numerical_features = [col for col in X_train.columns if col not in categorical_features]"
   ]
  },
  {
   "cell_type": "code",
   "execution_count": 29,
   "id": "cd9f6b38",
   "metadata": {},
   "outputs": [],
   "source": [
    "import numpy as np\n",
    "\n",
    "# Initialize aggregated SHAP array\n",
    "aggregated_shap = np.zeros((shap_vals.shape[0], len(X_train.columns), 2))  # Shape: (n_samples, 19, 2)\n",
    "\n",
    "for i, feature in enumerate(X_train.columns):\n",
    "    if feature in categorical_features:\n",
    "        # Find all encoded columns for this feature\n",
    "        prefix = f'encoding__{feature}_'\n",
    "        matching_indices = [idx for idx, tf in enumerate(transformed_features) if tf.startswith(prefix)]\n",
    "        # Sum SHAP values across these columns for both classes\n",
    "        if matching_indices:\n",
    "            aggregated_shap[:, i, 0] = np.sum(shap_vals[:, matching_indices, 0], axis=1)\n",
    "            aggregated_shap[:, i, 1] = np.sum(shap_vals[:, matching_indices, 1], axis=1)\n",
    "    else:\n",
    "        # Find the corresponding numerical feature column\n",
    "        remainder_feature = f'remainder__{feature}'\n",
    "        try:\n",
    "            idx = list(transformed_features).index(remainder_feature)\n",
    "            aggregated_shap[:, i, 0] = shap_vals[:, idx, 0]\n",
    "            aggregated_shap[:, i, 1] = shap_vals[:, idx, 1]\n",
    "        except ValueError:\n",
    "            pass  # Handle if feature not found (unlikely)"
   ]
  },
  {
   "cell_type": "code",
   "execution_count": 35,
   "id": "83ab3e91",
   "metadata": {},
   "outputs": [
    {
     "data": {
      "text/plain": [
       "19"
      ]
     },
     "execution_count": 35,
     "metadata": {},
     "output_type": "execute_result"
    }
   ],
   "source": [
    "len(aggregated_shap[0])"
   ]
  },
  {
   "cell_type": "code",
   "execution_count": 36,
   "id": "31cf7a09",
   "metadata": {},
   "outputs": [],
   "source": [
    "import numpy as np\n",
    "\n",
    "# Assuming `aggregated_shap` has shape (n_samples, 19, 2)\n",
    "mean_abs_shap_churn = np.mean(np.abs(aggregated_shap[:, :, 1]), axis=0)  # For Churn\n",
    "mean_abs_shap_non_churn = np.mean(np.abs(aggregated_shap[:, :, 0]), axis=0)  # For Non-Churn"
   ]
  },
  {
   "cell_type": "code",
   "execution_count": 48,
   "id": "e7094634",
   "metadata": {},
   "outputs": [],
   "source": [
    "import pandas as pd\n",
    "\n",
    "feature_importance = pd.DataFrame({\n",
    "    'Feature': X_train.columns,\n",
    "    'Importance_Churn': mean_abs_shap_churn,\n",
    "    'Importance_Non_Churn': mean_abs_shap_non_churn\n",
    "})\n",
    "\n",
    "# Sort by importance for Churn (descending)\n",
    "feature_importance = feature_importance.sort_values('Importance_Churn', ascending=False).reset_index(drop=True)"
   ]
  },
  {
   "cell_type": "code",
   "execution_count": null,
   "id": "6a26ea9e",
   "metadata": {},
   "outputs": [],
   "source": []
  },
  {
   "cell_type": "code",
   "execution_count": 49,
   "id": "7e3b3e56",
   "metadata": {},
   "outputs": [
    {
     "data": {
      "text/html": [
       "<div>\n",
       "<style scoped>\n",
       "    .dataframe tbody tr th:only-of-type {\n",
       "        vertical-align: middle;\n",
       "    }\n",
       "\n",
       "    .dataframe tbody tr th {\n",
       "        vertical-align: top;\n",
       "    }\n",
       "\n",
       "    .dataframe thead th {\n",
       "        text-align: right;\n",
       "    }\n",
       "</style>\n",
       "<table border=\"1\" class=\"dataframe\">\n",
       "  <thead>\n",
       "    <tr style=\"text-align: right;\">\n",
       "      <th></th>\n",
       "      <th>Feature</th>\n",
       "      <th>Importance_Churn</th>\n",
       "      <th>Importance_Non_Churn</th>\n",
       "    </tr>\n",
       "  </thead>\n",
       "  <tbody>\n",
       "    <tr>\n",
       "      <th>0</th>\n",
       "      <td>contract</td>\n",
       "      <td>0.117863</td>\n",
       "      <td>0.117863</td>\n",
       "    </tr>\n",
       "    <tr>\n",
       "      <th>1</th>\n",
       "      <td>internet_service</td>\n",
       "      <td>0.062671</td>\n",
       "      <td>0.062671</td>\n",
       "    </tr>\n",
       "    <tr>\n",
       "      <th>2</th>\n",
       "      <td>online_security</td>\n",
       "      <td>0.060181</td>\n",
       "      <td>0.060181</td>\n",
       "    </tr>\n",
       "    <tr>\n",
       "      <th>3</th>\n",
       "      <td>tech_support</td>\n",
       "      <td>0.038494</td>\n",
       "      <td>0.038494</td>\n",
       "    </tr>\n",
       "    <tr>\n",
       "      <th>4</th>\n",
       "      <td>payment_method</td>\n",
       "      <td>0.035637</td>\n",
       "      <td>0.035637</td>\n",
       "    </tr>\n",
       "    <tr>\n",
       "      <th>5</th>\n",
       "      <td>tenure</td>\n",
       "      <td>0.028489</td>\n",
       "      <td>0.028489</td>\n",
       "    </tr>\n",
       "    <tr>\n",
       "      <th>6</th>\n",
       "      <td>online_backup</td>\n",
       "      <td>0.024401</td>\n",
       "      <td>0.024401</td>\n",
       "    </tr>\n",
       "    <tr>\n",
       "      <th>7</th>\n",
       "      <td>paperless_billing</td>\n",
       "      <td>0.022198</td>\n",
       "      <td>0.022198</td>\n",
       "    </tr>\n",
       "    <tr>\n",
       "      <th>8</th>\n",
       "      <td>total_charges</td>\n",
       "      <td>0.016929</td>\n",
       "      <td>0.016929</td>\n",
       "    </tr>\n",
       "    <tr>\n",
       "      <th>9</th>\n",
       "      <td>streaming_movies</td>\n",
       "      <td>0.012467</td>\n",
       "      <td>0.012467</td>\n",
       "    </tr>\n",
       "    <tr>\n",
       "      <th>10</th>\n",
       "      <td>streaming_tv</td>\n",
       "      <td>0.011687</td>\n",
       "      <td>0.011687</td>\n",
       "    </tr>\n",
       "    <tr>\n",
       "      <th>11</th>\n",
       "      <td>partner</td>\n",
       "      <td>0.011222</td>\n",
       "      <td>0.011222</td>\n",
       "    </tr>\n",
       "    <tr>\n",
       "      <th>12</th>\n",
       "      <td>device_protection</td>\n",
       "      <td>0.010271</td>\n",
       "      <td>0.010271</td>\n",
       "    </tr>\n",
       "    <tr>\n",
       "      <th>13</th>\n",
       "      <td>dependents</td>\n",
       "      <td>0.008591</td>\n",
       "      <td>0.008591</td>\n",
       "    </tr>\n",
       "    <tr>\n",
       "      <th>14</th>\n",
       "      <td>multiple_lines</td>\n",
       "      <td>0.006151</td>\n",
       "      <td>0.006151</td>\n",
       "    </tr>\n",
       "    <tr>\n",
       "      <th>15</th>\n",
       "      <td>senior_citizen</td>\n",
       "      <td>0.005524</td>\n",
       "      <td>0.005524</td>\n",
       "    </tr>\n",
       "    <tr>\n",
       "      <th>16</th>\n",
       "      <td>monthly_charges</td>\n",
       "      <td>0.005009</td>\n",
       "      <td>0.005009</td>\n",
       "    </tr>\n",
       "    <tr>\n",
       "      <th>17</th>\n",
       "      <td>gender</td>\n",
       "      <td>0.003961</td>\n",
       "      <td>0.003961</td>\n",
       "    </tr>\n",
       "    <tr>\n",
       "      <th>18</th>\n",
       "      <td>phone_service</td>\n",
       "      <td>0.002219</td>\n",
       "      <td>0.002219</td>\n",
       "    </tr>\n",
       "  </tbody>\n",
       "</table>\n",
       "</div>"
      ],
      "text/plain": [
       "              Feature  Importance_Churn  Importance_Non_Churn\n",
       "0            contract          0.117863              0.117863\n",
       "1    internet_service          0.062671              0.062671\n",
       "2     online_security          0.060181              0.060181\n",
       "3        tech_support          0.038494              0.038494\n",
       "4      payment_method          0.035637              0.035637\n",
       "5              tenure          0.028489              0.028489\n",
       "6       online_backup          0.024401              0.024401\n",
       "7   paperless_billing          0.022198              0.022198\n",
       "8       total_charges          0.016929              0.016929\n",
       "9    streaming_movies          0.012467              0.012467\n",
       "10       streaming_tv          0.011687              0.011687\n",
       "11            partner          0.011222              0.011222\n",
       "12  device_protection          0.010271              0.010271\n",
       "13         dependents          0.008591              0.008591\n",
       "14     multiple_lines          0.006151              0.006151\n",
       "15     senior_citizen          0.005524              0.005524\n",
       "16    monthly_charges          0.005009              0.005009\n",
       "17             gender          0.003961              0.003961\n",
       "18      phone_service          0.002219              0.002219"
      ]
     },
     "execution_count": 49,
     "metadata": {},
     "output_type": "execute_result"
    }
   ],
   "source": [
    "feature_importance"
   ]
  },
  {
   "cell_type": "code",
   "execution_count": 52,
   "id": "576e90e6",
   "metadata": {},
   "outputs": [],
   "source": [
    "# import matplotlib.pyplot as plt\n",
    "\n",
    "# plt.figure(figsize=(12, 8))\n",
    "# plt.barh(\n",
    "#     feature_importance['Feature'],\n",
    "#     feature_importance['Importance_Churn'],\n",
    "#     color='red',\n",
    "#     alpha=0.6,\n",
    "#     label='Churn'\n",
    "# )\n",
    "# plt.barh(\n",
    "#     feature_importance['Feature'],\n",
    "#     -feature_importance['Importance_Non_Churn'],  # Negative for visual separation\n",
    "#     color='blue',\n",
    "#     alpha=0.6,\n",
    "#     label='Non-Churn'\n",
    "# )\n",
    "# plt.xlabel('Mean Absolute SHAP Value (Impact on Prediction)')\n",
    "# plt.title('Global Feature Importance for Churn vs. Non-Churn')\n",
    "# plt.legend()\n",
    "# plt.gca().invert_yaxis()  # Show top features at the top\n",
    "# plt.show()"
   ]
  },
  {
   "cell_type": "code",
   "execution_count": null,
   "id": "85a911dc",
   "metadata": {},
   "outputs": [],
   "source": []
  }
 ],
 "metadata": {
  "kernelspec": {
   "display_name": "Python (myenv)",
   "language": "python",
   "name": "churn_venv"
  },
  "language_info": {
   "codemirror_mode": {
    "name": "ipython",
    "version": 3
   },
   "file_extension": ".py",
   "mimetype": "text/x-python",
   "name": "python",
   "nbconvert_exporter": "python",
   "pygments_lexer": "ipython3",
   "version": "3.10.4"
  }
 },
 "nbformat": 4,
 "nbformat_minor": 5
}
