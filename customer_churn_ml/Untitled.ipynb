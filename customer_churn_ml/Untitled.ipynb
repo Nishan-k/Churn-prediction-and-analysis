{
 "cells": [
  {
   "cell_type": "code",
   "execution_count": 1,
   "id": "dceda23b",
   "metadata": {},
   "outputs": [],
   "source": [
    "from data_loader import load_data\n",
    "import pandas as pd\n",
    "import numpy as np\n",
    "\n",
    "\n",
    "\n",
    "\n",
    "import warnings\n",
    "warnings.filterwarnings(action=\"ignore\")\n"
   ]
  },
  {
   "cell_type": "markdown",
   "id": "d4dd38dd",
   "metadata": {},
   "source": [
    "# 1. Load the data from the `data_loader`:"
   ]
  },
  {
   "cell_type": "code",
   "execution_count": 2,
   "id": "227a648e",
   "metadata": {},
   "outputs": [
    {
     "data": {
      "text/html": [
       "<div>\n",
       "<style scoped>\n",
       "    .dataframe tbody tr th:only-of-type {\n",
       "        vertical-align: middle;\n",
       "    }\n",
       "\n",
       "    .dataframe tbody tr th {\n",
       "        vertical-align: top;\n",
       "    }\n",
       "\n",
       "    .dataframe thead th {\n",
       "        text-align: right;\n",
       "    }\n",
       "</style>\n",
       "<table border=\"1\" class=\"dataframe\">\n",
       "  <thead>\n",
       "    <tr style=\"text-align: right;\">\n",
       "      <th></th>\n",
       "      <th>customer_id</th>\n",
       "      <th>gender</th>\n",
       "      <th>senior_citizen</th>\n",
       "      <th>partner</th>\n",
       "      <th>dependents</th>\n",
       "      <th>tenure</th>\n",
       "      <th>phone_service</th>\n",
       "      <th>multiple_lines</th>\n",
       "      <th>internet_service</th>\n",
       "      <th>online_security</th>\n",
       "      <th>online_backup</th>\n",
       "      <th>device_protection</th>\n",
       "      <th>tech_support</th>\n",
       "      <th>streaming_tv</th>\n",
       "      <th>streaming_movies</th>\n",
       "      <th>contract</th>\n",
       "      <th>paperless_billing</th>\n",
       "      <th>payment_method</th>\n",
       "      <th>monthly_charges</th>\n",
       "      <th>total_charges</th>\n",
       "      <th>churn</th>\n",
       "    </tr>\n",
       "  </thead>\n",
       "  <tbody>\n",
       "    <tr>\n",
       "      <th>0</th>\n",
       "      <td>7590-VHVEG</td>\n",
       "      <td>Female</td>\n",
       "      <td>0</td>\n",
       "      <td>Yes</td>\n",
       "      <td>No</td>\n",
       "      <td>1</td>\n",
       "      <td>No</td>\n",
       "      <td>No phone service</td>\n",
       "      <td>DSL</td>\n",
       "      <td>No</td>\n",
       "      <td>Yes</td>\n",
       "      <td>No</td>\n",
       "      <td>No</td>\n",
       "      <td>No</td>\n",
       "      <td>No</td>\n",
       "      <td>Month-to-month</td>\n",
       "      <td>Yes</td>\n",
       "      <td>Electronic check</td>\n",
       "      <td>29.85</td>\n",
       "      <td>29.85</td>\n",
       "      <td>No</td>\n",
       "    </tr>\n",
       "  </tbody>\n",
       "</table>\n",
       "</div>"
      ],
      "text/plain": [
       "  customer_id  gender  senior_citizen partner dependents  ...  paperless_billing    payment_method monthly_charges total_charges churn\n",
       "0  7590-VHVEG  Female               0     Yes         No  ...                Yes  Electronic check           29.85         29.85    No\n",
       "\n",
       "[1 rows x 21 columns]"
      ]
     },
     "execution_count": 2,
     "metadata": {},
     "output_type": "execute_result"
    }
   ],
   "source": [
    "df = load_data()\n",
    "df.head(1)"
   ]
  },
  {
   "cell_type": "markdown",
   "id": "1dad6532",
   "metadata": {},
   "source": [
    "## 2. EDA:"
   ]
  },
  {
   "cell_type": "markdown",
   "id": "f17aab16",
   "metadata": {},
   "source": [
    "## 2.1 Data dimension:"
   ]
  },
  {
   "cell_type": "code",
   "execution_count": 8,
   "id": "5334dcdc",
   "metadata": {},
   "outputs": [
    {
     "name": "stdout",
     "output_type": "stream",
     "text": [
      "There are a total of: 7043 samples and 21 features in this data.\n"
     ]
    }
   ],
   "source": [
    "print(f\"There are a total of: {df.shape[0]} samples and {df.shape[1]} features in this data.\")"
   ]
  },
  {
   "cell_type": "markdown",
   "id": "af935879",
   "metadata": {},
   "source": [
    "`customer_id` won't be relevant for us, so we will drop it now."
   ]
  },
  {
   "cell_type": "code",
   "execution_count": 9,
   "id": "a1c05a21",
   "metadata": {},
   "outputs": [],
   "source": [
    "df = df.drop(columns=['customer_id'])"
   ]
  },
  {
   "cell_type": "code",
   "execution_count": 10,
   "id": "02df026f",
   "metadata": {},
   "outputs": [
    {
     "data": {
      "text/plain": [
       "(7043, 20)"
      ]
     },
     "execution_count": 10,
     "metadata": {},
     "output_type": "execute_result"
    }
   ],
   "source": [
    "df.shape"
   ]
  },
  {
   "cell_type": "markdown",
   "id": "88db55d3",
   "metadata": {},
   "source": [
    "## 2.2 Check for NULL values:"
   ]
  },
  {
   "cell_type": "code",
   "execution_count": 14,
   "id": "8cfe3bcb",
   "metadata": {},
   "outputs": [
    {
     "data": {
      "text/plain": [
       "gender               0\n",
       "senior_citizen       0\n",
       "partner              0\n",
       "dependents           0\n",
       "tenure               0\n",
       "phone_service        0\n",
       "multiple_lines       0\n",
       "internet_service     0\n",
       "online_security      0\n",
       "online_backup        0\n",
       "device_protection    0\n",
       "tech_support         0\n",
       "streaming_tv         0\n",
       "streaming_movies     0\n",
       "contract             0\n",
       "paperless_billing    0\n",
       "payment_method       0\n",
       "monthly_charges      0\n",
       "total_charges        0\n",
       "churn                0\n",
       "dtype: int64"
      ]
     },
     "execution_count": 14,
     "metadata": {},
     "output_type": "execute_result"
    }
   ],
   "source": [
    "df.isna().sum()"
   ]
  },
  {
   "cell_type": "markdown",
   "id": "66149727",
   "metadata": {},
   "source": [
    "We don't have any missing values."
   ]
  },
  {
   "cell_type": "markdown",
   "id": "c1fdbc63",
   "metadata": {},
   "source": [
    "## 2.3 Data info:"
   ]
  },
  {
   "cell_type": "code",
   "execution_count": 20,
   "id": "ff43ab89",
   "metadata": {},
   "outputs": [
    {
     "name": "stdout",
     "output_type": "stream",
     "text": [
      "<class 'pandas.core.frame.DataFrame'>\n",
      "RangeIndex: 7043 entries, 0 to 7042\n",
      "Data columns (total 20 columns):\n",
      " #   Column             Non-Null Count  Dtype \n",
      "---  ------             --------------  ----- \n",
      " 0   gender             7043 non-null   object\n",
      " 1   senior_citizen     7043 non-null   int64 \n",
      " 2   partner            7043 non-null   object\n",
      " 3   dependents         7043 non-null   object\n",
      " 4   tenure             7043 non-null   int64 \n",
      " 5   phone_service      7043 non-null   object\n",
      " 6   multiple_lines     7043 non-null   object\n",
      " 7   internet_service   7043 non-null   object\n",
      " 8   online_security    7043 non-null   object\n",
      " 9   online_backup      7043 non-null   object\n",
      " 10  device_protection  7043 non-null   object\n",
      " 11  tech_support       7043 non-null   object\n",
      " 12  streaming_tv       7043 non-null   object\n",
      " 13  streaming_movies   7043 non-null   object\n",
      " 14  contract           7043 non-null   object\n",
      " 15  paperless_billing  7043 non-null   object\n",
      " 16  payment_method     7043 non-null   object\n",
      " 17  monthly_charges    7043 non-null   object\n",
      " 18  total_charges      7043 non-null   object\n",
      " 19  churn              7043 non-null   object\n",
      "dtypes: int64(2), object(18)\n",
      "memory usage: 1.1+ MB\n"
     ]
    }
   ],
   "source": [
    "df.info()"
   ]
  },
  {
   "cell_type": "markdown",
   "id": "064a3341",
   "metadata": {},
   "source": [
    "There are some changes we need to do for the `dtypes`."
   ]
  },
  {
   "cell_type": "code",
   "execution_count": 22,
   "id": "1249d223",
   "metadata": {},
   "outputs": [],
   "source": [
    "df['senior_citizen'] = df['senior_citizen'].astype('object')\n",
    "df['monthly_charges'] = df['monthly_charges'].astype('float64')\n",
    "df['total_charges'] = df['total_charges'].astype('float64')"
   ]
  },
  {
   "cell_type": "code",
   "execution_count": 24,
   "id": "1d687800",
   "metadata": {},
   "outputs": [],
   "source": [
    "df['churn'] = df['churn'].map({\"Yes\": 1, \"No\":0})"
   ]
  },
  {
   "cell_type": "code",
   "execution_count": 25,
   "id": "22c59c4c",
   "metadata": {},
   "outputs": [
    {
     "data": {
      "text/html": [
       "<div>\n",
       "<style scoped>\n",
       "    .dataframe tbody tr th:only-of-type {\n",
       "        vertical-align: middle;\n",
       "    }\n",
       "\n",
       "    .dataframe tbody tr th {\n",
       "        vertical-align: top;\n",
       "    }\n",
       "\n",
       "    .dataframe thead th {\n",
       "        text-align: right;\n",
       "    }\n",
       "</style>\n",
       "<table border=\"1\" class=\"dataframe\">\n",
       "  <thead>\n",
       "    <tr style=\"text-align: right;\">\n",
       "      <th></th>\n",
       "      <th>gender</th>\n",
       "      <th>senior_citizen</th>\n",
       "      <th>partner</th>\n",
       "      <th>dependents</th>\n",
       "      <th>tenure</th>\n",
       "      <th>phone_service</th>\n",
       "      <th>multiple_lines</th>\n",
       "      <th>internet_service</th>\n",
       "      <th>online_security</th>\n",
       "      <th>online_backup</th>\n",
       "      <th>device_protection</th>\n",
       "      <th>tech_support</th>\n",
       "      <th>streaming_tv</th>\n",
       "      <th>streaming_movies</th>\n",
       "      <th>contract</th>\n",
       "      <th>paperless_billing</th>\n",
       "      <th>payment_method</th>\n",
       "      <th>monthly_charges</th>\n",
       "      <th>total_charges</th>\n",
       "      <th>churn</th>\n",
       "    </tr>\n",
       "  </thead>\n",
       "  <tbody>\n",
       "    <tr>\n",
       "      <th>0</th>\n",
       "      <td>Female</td>\n",
       "      <td>0</td>\n",
       "      <td>Yes</td>\n",
       "      <td>No</td>\n",
       "      <td>1</td>\n",
       "      <td>No</td>\n",
       "      <td>No phone service</td>\n",
       "      <td>DSL</td>\n",
       "      <td>No</td>\n",
       "      <td>Yes</td>\n",
       "      <td>No</td>\n",
       "      <td>No</td>\n",
       "      <td>No</td>\n",
       "      <td>No</td>\n",
       "      <td>Month-to-month</td>\n",
       "      <td>Yes</td>\n",
       "      <td>Electronic check</td>\n",
       "      <td>29.85</td>\n",
       "      <td>29.85</td>\n",
       "      <td>0</td>\n",
       "    </tr>\n",
       "  </tbody>\n",
       "</table>\n",
       "</div>"
      ],
      "text/plain": [
       "   gender senior_citizen partner dependents  tenure  ... paperless_billing    payment_method monthly_charges total_charges churn\n",
       "0  Female              0     Yes         No       1  ...               Yes  Electronic check           29.85         29.85     0\n",
       "\n",
       "[1 rows x 20 columns]"
      ]
     },
     "execution_count": 25,
     "metadata": {},
     "output_type": "execute_result"
    }
   ],
   "source": [
    "df.head(1)"
   ]
  },
  {
   "cell_type": "markdown",
   "id": "d5c953ce",
   "metadata": {},
   "source": [
    "## 2.4 Data Exploration with Visualization:"
   ]
  },
  {
   "cell_type": "markdown",
   "id": "9b9925ad",
   "metadata": {},
   "source": [
    "It is important to understand the data distribution and most importantly for a classification task i.e. whehter a customer will Churn `1` or Not-Churn `0`, we need to see if we have class imabalance or not. It is quite common to have a class imbalance problem, where the count of one class is higher than the other, which might create problem when building the model. It will create a bias."
   ]
  },
  {
   "cell_type": "code",
   "execution_count": null,
   "id": "ae90159c",
   "metadata": {},
   "outputs": [],
   "source": []
  }
 ],
 "metadata": {
  "kernelspec": {
   "display_name": "Python (myenv)",
   "language": "python",
   "name": "churn_venv"
  },
  "language_info": {
   "codemirror_mode": {
    "name": "ipython",
    "version": 3
   },
   "file_extension": ".py",
   "mimetype": "text/x-python",
   "name": "python",
   "nbconvert_exporter": "python",
   "pygments_lexer": "ipython3",
   "version": "3.10.4"
  }
 },
 "nbformat": 4,
 "nbformat_minor": 5
}
